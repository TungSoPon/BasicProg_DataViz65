{
  "nbformat": 4,
  "nbformat_minor": 0,
  "metadata": {
    "colab": {
      "name": "Untitled2.ipynb",
      "provenance": [],
      "authorship_tag": "ABX9TyMs+U1nswRD9T5JxnAdYYoM",
      "include_colab_link": true
    },
    "kernelspec": {
      "name": "python3",
      "display_name": "Python 3"
    },
    "language_info": {
      "name": "python"
    }
  },
  "cells": [
    {
      "cell_type": "markdown",
      "metadata": {
        "id": "view-in-github",
        "colab_type": "text"
      },
      "source": [
        "<a href=\"https://colab.research.google.com/github/TungSoPon/BasicProg_DataViz65/blob/main/Untitled2.ipynb\" target=\"_parent\"><img src=\"https://colab.research.google.com/assets/colab-badge.svg\" alt=\"Open In Colab\"/></a>"
      ]
    },
    {
      "cell_type": "markdown",
      "source": [
        "HW1 \n",
        "\n",
        "เขียน function \n",
        "แสดงความต่างของเวลา (Quiz1)\n",
        "โดย input อยู่ในรูปแบบ ```'09:11:50 - 12:30:15'```\n",
        "\n",
        "และทดลองรัน\n",
        "\n",
        "* '09:11:50 - 12:30:15'\n",
        "* '13:41:07 - 20:00:18'\n",
        "* '00:00:00 - 23:59:59'"
      ],
      "metadata": {
        "id": "3iON-kZag_BZ"
      }
    },
    {
      "cell_type": "code",
      "source": [
        "def take_time(time) :\n",
        "    sp_time = time.split('-')\n",
        "    start_time = sp_time[0]\n",
        "    sp_start_time = start_time.split(':')\n",
        "    end_time = sp_time[1]\n",
        "    sp_end_time = end_time.split(':')\n",
        "    t1 = (int(sp_start_time[0])*60*60) + (int(sp_start_time[1])*60) + (int(sp_start_time[2]))\n",
        "    t2 = (int(sp_end_time[0])*60*60) + (int(sp_end_time[1])*60) + (int(sp_end_time[2])) \n",
        "    total_sec = t2 - t1\n",
        "    print(f'ความต่างของเวลาคือ {total_sec} วินาที')"
      ],
      "metadata": {
        "id": "QbLqqkejhAvq"
      },
      "execution_count": 16,
      "outputs": []
    },
    {
      "cell_type": "code",
      "source": [
        "take_time('09:11:50 - 12:30:15')"
      ],
      "metadata": {
        "colab": {
          "base_uri": "https://localhost:8080/"
        },
        "id": "AsYx_INOjzf8",
        "outputId": "46d7879a-84f4-4103-f933-36d5b7f7f0d5"
      },
      "execution_count": 17,
      "outputs": [
        {
          "output_type": "stream",
          "name": "stdout",
          "text": [
            "ความต่างของเวลาคือ 11905 วินาที\n"
          ]
        }
      ]
    },
    {
      "cell_type": "code",
      "source": [
        "take_time('13:41:07 - 20:00:18')"
      ],
      "metadata": {
        "colab": {
          "base_uri": "https://localhost:8080/"
        },
        "id": "uRQqvecOkZ9T",
        "outputId": "99a4a100-5cf1-4a0a-f540-ee5778bb4169"
      },
      "execution_count": 18,
      "outputs": [
        {
          "output_type": "stream",
          "name": "stdout",
          "text": [
            "ความต่างของเวลาคือ 22751 วินาที\n"
          ]
        }
      ]
    },
    {
      "cell_type": "code",
      "source": [
        "take_time('00:00:00 - 23:59:59')"
      ],
      "metadata": {
        "colab": {
          "base_uri": "https://localhost:8080/"
        },
        "id": "3eFvf1w_k_xK",
        "outputId": "1d4744fc-f099-4c13-9228-f17e9495f42e"
      },
      "execution_count": 19,
      "outputs": [
        {
          "output_type": "stream",
          "name": "stdout",
          "text": [
            "ความต่างของเวลาคือ 86399 วินาที\n"
          ]
        }
      ]
    }
  ]
}
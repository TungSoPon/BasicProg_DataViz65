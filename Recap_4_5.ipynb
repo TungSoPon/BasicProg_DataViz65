{
  "nbformat": 4,
  "nbformat_minor": 0,
  "metadata": {
    "colab": {
      "name": "Recap 4-5.ipynb",
      "provenance": [],
      "include_colab_link": true
    },
    "kernelspec": {
      "name": "python3",
      "display_name": "Python 3"
    },
    "language_info": {
      "name": "python"
    }
  },
  "cells": [
    {
      "cell_type": "markdown",
      "metadata": {
        "id": "view-in-github",
        "colab_type": "text"
      },
      "source": [
        "<a href=\"https://colab.research.google.com/github/TungSoPon/BasicProg_DataViz65/blob/main/Recap_4_5.ipynb\" target=\"_parent\"><img src=\"https://colab.research.google.com/assets/colab-badge.svg\" alt=\"Open In Colab\"/></a>"
      ]
    },
    {
      "cell_type": "markdown",
      "source": [
        "## Matrix Slicing"
      ],
      "metadata": {
        "id": "MZ7ECiJ1DEVj"
      }
    },
    {
      "cell_type": "code",
      "source": [
        "import numpy"
      ],
      "metadata": {
        "id": "8f0tL68oDOTS"
      },
      "execution_count": 4,
      "outputs": []
    },
    {
      "cell_type": "code",
      "execution_count": 5,
      "metadata": {
        "colab": {
          "base_uri": "https://localhost:8080/"
        },
        "id": "ZQXbbZjiC4yl",
        "outputId": "d80dae22-8bae-4e8f-90c1-09ac7fbaebbd"
      },
      "outputs": [
        {
          "output_type": "execute_result",
          "data": {
            "text/plain": [
              "array([[2, 4, 5],\n",
              "       [1, 2, 3],\n",
              "       [9, 8, 7],\n",
              "       [3, 6, 9]])"
            ]
          },
          "metadata": {},
          "execution_count": 5
        }
      ],
      "source": [
        "list_a = [[2,4,5],[1,2,3],[9,8,7],[3,6,9]]\n",
        "mat_a = numpy.array(list_a)\n",
        "mat_a"
      ]
    },
    {
      "cell_type": "code",
      "source": [
        "import numpy as np"
      ],
      "metadata": {
        "id": "NvwsaUf4EWTA"
      },
      "execution_count": 6,
      "outputs": []
    },
    {
      "cell_type": "code",
      "source": [
        "list_b = [[-1,-1,2,4,5],[-2,-2,1,2,3],[-3,-3,9,8,7],[-4,-4,3,6,9]]\n",
        "mat_b = np.array(list_b)\n",
        "mat_b"
      ],
      "metadata": {
        "colab": {
          "base_uri": "https://localhost:8080/"
        },
        "id": "YCEZ0qJNEoAw",
        "outputId": "a533d759-f4c9-4286-ee56-0565da9d2c0d"
      },
      "execution_count": 7,
      "outputs": [
        {
          "output_type": "execute_result",
          "data": {
            "text/plain": [
              "array([[-1, -1,  2,  4,  5],\n",
              "       [-2, -2,  1,  2,  3],\n",
              "       [-3, -3,  9,  8,  7],\n",
              "       [-4, -4,  3,  6,  9]])"
            ]
          },
          "metadata": {},
          "execution_count": 7
        }
      ]
    },
    {
      "cell_type": "markdown",
      "source": [
        "## Quiz2\n",
        "\n",
        "1. slice ค่าลบออกมาจาก ```mat_b```\n",
        "2. slice ```[1,2,3]``` จาก ```mat_a```\n",
        "3. slice ```[[1,3],[9,7],[3,9]]``` ออกมาจาก ```mat_b```"
      ],
      "metadata": {
        "id": "wtf67yt-FSc3"
      }
    },
    {
      "cell_type": "code",
      "source": [
        "mat_b[:5,:2] #ข้อ1"
      ],
      "metadata": {
        "id": "tDjbqTFCExUT",
        "outputId": "d233cbbc-fd44-469f-d7c6-a363263a3d78",
        "colab": {
          "base_uri": "https://localhost:8080/"
        }
      },
      "execution_count": 10,
      "outputs": [
        {
          "output_type": "execute_result",
          "data": {
            "text/plain": [
              "array([[-1, -1],\n",
              "       [-2, -2],\n",
              "       [-3, -3],\n",
              "       [-4, -4]])"
            ]
          },
          "metadata": {},
          "execution_count": 10
        }
      ]
    },
    {
      "cell_type": "code",
      "source": [
        "mat_a[1:2,:4]  #ข้อ2"
      ],
      "metadata": {
        "id": "MjC8HedTJ7VB",
        "outputId": "962318b6-fbae-45ba-840a-5b7b5dc8a4a7",
        "colab": {
          "base_uri": "https://localhost:8080/"
        }
      },
      "execution_count": 13,
      "outputs": [
        {
          "output_type": "execute_result",
          "data": {
            "text/plain": [
              "array([[1, 2, 3]])"
            ]
          },
          "metadata": {},
          "execution_count": 13
        }
      ]
    },
    {
      "cell_type": "code",
      "source": [
        "mat_b[1:4,2:5:2]"
      ],
      "metadata": {
        "id": "Cc4NefDZKMRN",
        "outputId": "76f16688-5cf3-4f0a-f47c-0e4d66681edf",
        "colab": {
          "base_uri": "https://localhost:8080/"
        }
      },
      "execution_count": 14,
      "outputs": [
        {
          "output_type": "execute_result",
          "data": {
            "text/plain": [
              "array([[1, 3],\n",
              "       [9, 7],\n",
              "       [3, 9]])"
            ]
          },
          "metadata": {},
          "execution_count": 14
        }
      ]
    }
  ]
}
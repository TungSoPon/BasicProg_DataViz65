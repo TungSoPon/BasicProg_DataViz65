{
  "nbformat": 4,
  "nbformat_minor": 0,
  "metadata": {
    "colab": {
      "name": "Recap 1-3 Quiz1.ipynb",
      "provenance": [],
      "include_colab_link": true
    },
    "kernelspec": {
      "name": "python3",
      "display_name": "Python 3"
    },
    "language_info": {
      "name": "python"
    }
  },
  "cells": [
    {
      "cell_type": "markdown",
      "metadata": {
        "id": "view-in-github",
        "colab_type": "text"
      },
      "source": [
        "<a href=\"https://colab.research.google.com/github/TungSoPon/BasicProg_DataViz65/blob/main/Recap_1_3_Quiz1.ipynb\" target=\"_parent\"><img src=\"https://colab.research.google.com/assets/colab-badge.svg\" alt=\"Open In Colab\"/></a>"
      ]
    },
    {
      "cell_type": "markdown",
      "source": [
        "Quiz 1 \n",
        "\n",
        "คำนวณเวลาเป็นความต่างของเวลาเป็นวินาทีของช่วงเวลาต่อไปนี้โดยใช้คำสั่ง split() ช่วย และ print ออกมาให้สวยงาม\n",
        "\n",
        "* 09:11:50 - 12:30:15\n",
        "* 13:41:07 - 20:00:18\n",
        "* 21:30:15 - 00:00:00\n",
        "* 00:00:00 - 23:59:59\n",
        "\n",
        "\n",
        "\n",
        "\n",
        "\n"
      ],
      "metadata": {
        "id": "FKKg2s03yfKC"
      }
    },
    {
      "cell_type": "code",
      "source": [
        "timeA1 = '09:11:50' "
      ],
      "metadata": {
        "id": "oW0kr7X3HXW_"
      },
      "execution_count": 21,
      "outputs": []
    },
    {
      "cell_type": "code",
      "source": [
        "timeA2 = '12:30:15'"
      ],
      "metadata": {
        "id": "v9q5swEhIL6Z"
      },
      "execution_count": 19,
      "outputs": []
    },
    {
      "cell_type": "code",
      "execution_count": 22,
      "metadata": {
        "id": "JHgL5URByL6e",
        "colab": {
          "base_uri": "https://localhost:8080/"
        },
        "outputId": "cea1a782-ac3e-46e8-c550-9ec0ec4781c2"
      },
      "outputs": [
        {
          "output_type": "stream",
          "name": "stdout",
          "text": [
            "ความต่างของเวลาเป็นวินาทีของ 09:11:50 - 12:30:15 = 11905 วินาที\n"
          ]
        }
      ],
      "source": [
        "A=((12*60*60) + (30*60) + 15) - ((9*60*60) + (11*60) + 50)\n",
        "print(f'ความต่างของเวลาเป็นวินาทีของ {timeA1} - {timeA2} = {A} วินาที')"
      ]
    },
    {
      "cell_type": "code",
      "source": [
        "timeB1 = '13:41:07'"
      ],
      "metadata": {
        "id": "Oj6nTxMhIe66"
      },
      "execution_count": 23,
      "outputs": []
    },
    {
      "cell_type": "code",
      "source": [
        "timeB2 = '20:00:18'"
      ],
      "metadata": {
        "id": "61JMKTeEIoi7"
      },
      "execution_count": 24,
      "outputs": []
    },
    {
      "cell_type": "code",
      "source": [
        "B=((20*60*60) + (0*60) + 18) - ((13*60*60) + (41*60) +7)\n",
        "print(f'ความต่างของเวลาเป็นวินาทีของ {timeB1} - {timeB2} = {B} วินาที')"
      ],
      "metadata": {
        "colab": {
          "base_uri": "https://localhost:8080/"
        },
        "id": "0-Xe4TrsB13V",
        "outputId": "b4a15f1b-4ed3-4e0f-ac20-96048dae0143"
      },
      "execution_count": 25,
      "outputs": [
        {
          "output_type": "stream",
          "name": "stdout",
          "text": [
            "ความต่างของเวลาเป็นวินาทีของ 13:41:07 - 20:00:18 = 22751 วินาที\n"
          ]
        }
      ]
    },
    {
      "cell_type": "code",
      "source": [
        "timeC1 = '21:30:15'"
      ],
      "metadata": {
        "id": "ORmPPVK8JAwD"
      },
      "execution_count": 26,
      "outputs": []
    },
    {
      "cell_type": "code",
      "source": [
        "timeC2 = '00:00:00'"
      ],
      "metadata": {
        "id": "yEDhcaKZJIQs"
      },
      "execution_count": 27,
      "outputs": []
    },
    {
      "cell_type": "code",
      "source": [
        "C=((24*60*60) + (0*60) + 0) - ((21*60*60) + (30*60) + 15)\n",
        "print(f'ความต่างของเวลาเป็นวินาทีของ {timeC1} - {timeC2} = {C} วินาที')"
      ],
      "metadata": {
        "colab": {
          "base_uri": "https://localhost:8080/"
        },
        "id": "RcQ7YyX1CvTQ",
        "outputId": "b05b891a-acee-41c9-d829-ad494b29b623"
      },
      "execution_count": 28,
      "outputs": [
        {
          "output_type": "stream",
          "name": "stdout",
          "text": [
            "ความต่างของเวลาเป็นวินาทีของ 21:30:15 - 00:00:00 = 8985 วินาที\n"
          ]
        }
      ]
    },
    {
      "cell_type": "code",
      "source": [
        "timeD1 = '00:00:00'"
      ],
      "metadata": {
        "id": "m2K9msGsJZPN"
      },
      "execution_count": 29,
      "outputs": []
    },
    {
      "cell_type": "code",
      "source": [
        "timeD2 = '23:59:59'"
      ],
      "metadata": {
        "id": "e8eVgoOCJfld"
      },
      "execution_count": 30,
      "outputs": []
    },
    {
      "cell_type": "code",
      "source": [
        "D=((24*60*60) + (0*60) + 0) - ((23*60*60) + (59*60) + 59)\n",
        "print(f'ความต่างของเวลาเป็นวินาทีของ {timeD1} - {timeD2} = {D} วินาที')"
      ],
      "metadata": {
        "colab": {
          "base_uri": "https://localhost:8080/"
        },
        "id": "gXdltgzFDOyu",
        "outputId": "8cf2bc08-0f7a-4ac5-c020-cd3e807154ad"
      },
      "execution_count": 32,
      "outputs": [
        {
          "output_type": "stream",
          "name": "stdout",
          "text": [
            "ความต่างของเวลาเป็นวินาทีของ 00:00:00 - 23:59:59 = 1 วินาที\n"
          ]
        }
      ]
    }
  ]
}
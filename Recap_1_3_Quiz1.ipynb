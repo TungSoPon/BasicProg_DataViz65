{
  "nbformat": 4,
  "nbformat_minor": 0,
  "metadata": {
    "colab": {
      "name": "Recap 1-3 Quiz1.ipynb",
      "provenance": [],
      "include_colab_link": true
    },
    "kernelspec": {
      "name": "python3",
      "display_name": "Python 3"
    },
    "language_info": {
      "name": "python"
    }
  },
  "cells": [
    {
      "cell_type": "markdown",
      "metadata": {
        "id": "view-in-github",
        "colab_type": "text"
      },
      "source": [
        "<a href=\"https://colab.research.google.com/github/TungSoPon/BasicProg_DataViz65/blob/main/Recap_1_3_Quiz1.ipynb\" target=\"_parent\"><img src=\"https://colab.research.google.com/assets/colab-badge.svg\" alt=\"Open In Colab\"/></a>"
      ]
    },
    {
      "cell_type": "markdown",
      "source": [
        "Quiz 1 \n",
        "\n",
        "คำนวณเวลาเป็นความต่างของเวลาเป็นวินาทีของช่วงเวลาต่อไปนี้โดยใช้คำสั่ง split() ช่วย และ print ออกมาให้สวยงาม\n",
        "\n",
        "* 09:11:50 - 12:30:15\n",
        "* 13:41:07 - 20:00:18\n",
        "* 21:30:15 - 00:00:00\n",
        "* 00:00:00 - 23:59:59\n",
        "\n",
        "\n",
        "\n",
        "\n",
        "\n"
      ],
      "metadata": {
        "id": "FKKg2s03yfKC"
      }
    },
    {
      "cell_type": "code",
      "execution_count": 9,
      "metadata": {
        "id": "JHgL5URByL6e",
        "outputId": "e7cda639-3eb9-480b-df23-77acab8ec622",
        "colab": {
          "base_uri": "https://localhost:8080/"
        }
      },
      "outputs": [
        {
          "output_type": "stream",
          "name": "stdout",
          "text": [
            "ความต่างของเวลาเป็นวินาทีของ 09:11:50 - 12:30:15 = 11905 วินาที\n"
          ]
        }
      ],
      "source": [
        "A=((12*60*60) + (30*60) + 15) - ((9*60*60) + (11*60) + 50)\n",
        "print(f'ความต่างของเวลาเป็นวินาทีของ 09:11:50 - 12:30:15 = {A} วินาที')"
      ]
    },
    {
      "cell_type": "code",
      "source": [
        "B=((20*60*60) + (0*60) + 18) - ((13*60*60) + (41*60) +7)\n",
        "print(f'ความต่างของเวลาเป็นวินาทีของ 13:41:07 - 20:00:18 = {B} วินาที')"
      ],
      "metadata": {
        "id": "0-Xe4TrsB13V",
        "outputId": "f951f67c-3a73-4d23-a7c9-28be96204c42",
        "colab": {
          "base_uri": "https://localhost:8080/"
        }
      },
      "execution_count": 10,
      "outputs": [
        {
          "output_type": "stream",
          "name": "stdout",
          "text": [
            "ความต่างของเวลาเป็นวินาทีของ 13:41:07 - 20:00:18 = 22751 วินาที\n"
          ]
        }
      ]
    },
    {
      "cell_type": "code",
      "source": [
        "C=((24*60*60) + (0*60) + 0) - ((21*60*60) + (30*60) + 15)\n",
        "print(f'ความต่างของเวลาเป็นวินาทีของ 21:30:15 - 00:00:00 = {C} วินาที')"
      ],
      "metadata": {
        "id": "RcQ7YyX1CvTQ",
        "outputId": "c06e14f3-5ee3-4919-b5c7-f9d251eb91b9",
        "colab": {
          "base_uri": "https://localhost:8080/"
        }
      },
      "execution_count": 11,
      "outputs": [
        {
          "output_type": "stream",
          "name": "stdout",
          "text": [
            "ความต่างของเวลาเป็นวินาทีของ 21:30:15 - 00:00:00 = 8985 วินาที\n"
          ]
        }
      ]
    },
    {
      "cell_type": "code",
      "source": [
        "D=((24*60*60) + (0*60) + 0) - ((23*60*60) + (59*60) + 59)\n",
        "print(f'ความต่างของเวลาเป็นวินาทีของ 00:00:00 - 23:59:59 = {D} วินาที')"
      ],
      "metadata": {
        "id": "gXdltgzFDOyu",
        "outputId": "c4eaa809-949e-4a1f-dfbe-894828d3ab57",
        "colab": {
          "base_uri": "https://localhost:8080/"
        }
      },
      "execution_count": 13,
      "outputs": [
        {
          "output_type": "stream",
          "name": "stdout",
          "text": [
            "ความต่างของเวลาเป็นวินาทีของ 00:00:00 - 23:59:59 = 1 วินาที\n"
          ]
        }
      ]
    }
  ]
}
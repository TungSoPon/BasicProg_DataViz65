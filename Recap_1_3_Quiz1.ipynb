{
  "nbformat": 4,
  "nbformat_minor": 0,
  "metadata": {
    "colab": {
      "name": "Recap 1-3 Quiz1.ipynb",
      "provenance": [],
      "include_colab_link": true
    },
    "kernelspec": {
      "name": "python3",
      "display_name": "Python 3"
    },
    "language_info": {
      "name": "python"
    }
  },
  "cells": [
    {
      "cell_type": "markdown",
      "metadata": {
        "id": "view-in-github",
        "colab_type": "text"
      },
      "source": [
        "<a href=\"https://colab.research.google.com/github/TungSoPon/BasicProg_DataViz65/blob/main/Recap_1_3_Quiz1.ipynb\" target=\"_parent\"><img src=\"https://colab.research.google.com/assets/colab-badge.svg\" alt=\"Open In Colab\"/></a>"
      ]
    },
    {
      "cell_type": "markdown",
      "source": [
        "Quiz 1 \n",
        "\n",
        "คำนวณเวลาเป็นความต่างของเวลาเป็นวินาทีของช่วงเวลาต่อไปนี้โดยใช้คำสั่ง split() ช่วย และ print ออกมาให้สวยงาม\n",
        "\n",
        "* 09:11:50 - 12:30:15\n",
        "* 13:41:07 - 20:00:18\n",
        "* 21:30:15 - 00:00:00\n",
        "* 00:00:00 - 23:59:59\n",
        "\n",
        "\n",
        "\n",
        "\n",
        "\n"
      ],
      "metadata": {
        "id": "FKKg2s03yfKC"
      }
    },
    {
      "cell_type": "code",
      "source": [
        "timeA1 = '09:11:50' "
      ],
      "metadata": {
        "id": "oW0kr7X3HXW_"
      },
      "execution_count": 21,
      "outputs": []
    },
    {
      "cell_type": "code",
      "source": [
        "timeA1_sp = timeA1.split(':')\n",
        "print(timeA1_sp)"
      ],
      "metadata": {
        "id": "d0FVWhuYLcLa",
        "outputId": "93e0b1dd-16e8-4792-9edb-97b828ed1746",
        "colab": {
          "base_uri": "https://localhost:8080/"
        }
      },
      "execution_count": 40,
      "outputs": [
        {
          "output_type": "stream",
          "name": "stdout",
          "text": [
            "['09', '11', '50']\n"
          ]
        }
      ]
    },
    {
      "cell_type": "code",
      "source": [
        "A1 = int(timeA1_sp[0]) * 3600 + int(timeA1_sp[1]) * 60 + int(timeA1_sp[2])"
      ],
      "metadata": {
        "id": "aZslzsf6Ov2X"
      },
      "execution_count": 47,
      "outputs": []
    },
    {
      "cell_type": "code",
      "source": [
        "timeA2 = '12:30:15'"
      ],
      "metadata": {
        "id": "v9q5swEhIL6Z"
      },
      "execution_count": 19,
      "outputs": []
    },
    {
      "cell_type": "code",
      "source": [
        "timeA2_sp = timeA2.split(':')\n",
        "print(timeA2_sp)"
      ],
      "metadata": {
        "id": "Y0-Y7-TvMUla",
        "outputId": "178b90e1-5774-4578-ac10-a09b85ea7857",
        "colab": {
          "base_uri": "https://localhost:8080/"
        }
      },
      "execution_count": 39,
      "outputs": [
        {
          "output_type": "stream",
          "name": "stdout",
          "text": [
            "['12', '30', '15']\n"
          ]
        }
      ]
    },
    {
      "cell_type": "code",
      "execution_count": 49,
      "metadata": {
        "id": "JHgL5URByL6e",
        "colab": {
          "base_uri": "https://localhost:8080/"
        },
        "outputId": "661ee7a0-949b-43b0-a4cb-232a244234b7"
      },
      "outputs": [
        {
          "output_type": "stream",
          "name": "stdout",
          "text": [
            "ความต่างของเวลาเป็นวินาทีของ 09:11:50 - 12:30:15 = 11905 วินาที\n"
          ]
        }
      ],
      "source": [
        "A2=int(timeA2_sp[0]) * 3600 + int(timeA2_sp[1]) * 60 + int(timeA2_sp[2])\n",
        "print(f'ความต่างของเวลาเป็นวินาทีของ {timeA1} - {timeA2} = {A2-A1} วินาที')"
      ]
    },
    {
      "cell_type": "code",
      "source": [
        "timeB1 = '13:41:07'"
      ],
      "metadata": {
        "id": "Oj6nTxMhIe66"
      },
      "execution_count": 23,
      "outputs": []
    },
    {
      "cell_type": "code",
      "source": [
        "timeB1_sp = timeB1.split(':')\n",
        "print(timeB1_sp)"
      ],
      "metadata": {
        "id": "RWVysDeQQDPC",
        "outputId": "7602d0bb-1d6c-44df-ca37-b5c2f1d8c9ac",
        "colab": {
          "base_uri": "https://localhost:8080/"
        }
      },
      "execution_count": 50,
      "outputs": [
        {
          "output_type": "stream",
          "name": "stdout",
          "text": [
            "['13', '41', '07']\n"
          ]
        }
      ]
    },
    {
      "cell_type": "code",
      "source": [
        "B1 = int(timeB1_sp[0]) * 3600 + int(timeB1_sp[1]) * 60 + int(timeB1_sp[2])"
      ],
      "metadata": {
        "id": "KfOAzHLlQJXh"
      },
      "execution_count": 51,
      "outputs": []
    },
    {
      "cell_type": "code",
      "source": [
        "timeB2 = '20:00:18'"
      ],
      "metadata": {
        "id": "61JMKTeEIoi7"
      },
      "execution_count": 24,
      "outputs": []
    },
    {
      "cell_type": "code",
      "source": [
        "timeB2_sp = timeB2.split(':')\n",
        "print(timeB2_sp)"
      ],
      "metadata": {
        "id": "WoBdagOOQQgp",
        "outputId": "a56a84de-b0ad-4d3d-bdcc-913a21e4d1a2",
        "colab": {
          "base_uri": "https://localhost:8080/"
        }
      },
      "execution_count": 52,
      "outputs": [
        {
          "output_type": "stream",
          "name": "stdout",
          "text": [
            "['20', '00', '18']\n"
          ]
        }
      ]
    },
    {
      "cell_type": "code",
      "source": [
        "B2=int(timeB2_sp[0]) * 3600 + int(timeB2_sp[1]) * 60 + int(timeB2_sp[2])\n",
        "print(f'ความต่างของเวลาเป็นวินาทีของ {timeB1} - {timeB2} = {B2-B1} วินาที')"
      ],
      "metadata": {
        "id": "7rkAcZ-8QZGL",
        "outputId": "5b96f2ab-a9a3-42a6-ba78-1d35bbb46671",
        "colab": {
          "base_uri": "https://localhost:8080/"
        }
      },
      "execution_count": 54,
      "outputs": [
        {
          "output_type": "stream",
          "name": "stdout",
          "text": [
            "ความต่างของเวลาเป็นวินาทีของ 13:41:07 - 20:00:18 = 22751 วินาที\n"
          ]
        }
      ]
    },
    {
      "cell_type": "code",
      "source": [
        "timeC1 = '21:30:15'"
      ],
      "metadata": {
        "id": "ORmPPVK8JAwD"
      },
      "execution_count": 26,
      "outputs": []
    },
    {
      "cell_type": "code",
      "source": [
        "timeC1_sp = timeC1.split(':')\n",
        "print(timeC1_sp)"
      ],
      "metadata": {
        "id": "xiZN6uEhQkNq",
        "outputId": "a8cebfd7-730f-455a-8bfa-ff14ffc70d38",
        "colab": {
          "base_uri": "https://localhost:8080/"
        }
      },
      "execution_count": 55,
      "outputs": [
        {
          "output_type": "stream",
          "name": "stdout",
          "text": [
            "['21', '30', '15']\n"
          ]
        }
      ]
    },
    {
      "cell_type": "code",
      "source": [
        "C1 = int(timeC1_sp[0]) * 3600 + int(timeC1_sp[1]) * 60 + int(timeC1_sp[2])"
      ],
      "metadata": {
        "id": "QZawAEIpQziq"
      },
      "execution_count": 57,
      "outputs": []
    },
    {
      "cell_type": "code",
      "source": [
        "timeC2 = '00:00:00'"
      ],
      "metadata": {
        "id": "yEDhcaKZJIQs"
      },
      "execution_count": 68,
      "outputs": []
    },
    {
      "cell_type": "code",
      "source": [
        "tC2 = '24:00:00'"
      ],
      "metadata": {
        "id": "j3JQKzl9R7-G"
      },
      "execution_count": 69,
      "outputs": []
    },
    {
      "cell_type": "code",
      "source": [
        "tC2_sp = tC2.split(':')\n",
        "print(tC2_sp)"
      ],
      "metadata": {
        "id": "9CMMu8prQwaz",
        "outputId": "3256f872-0590-4d17-e3b7-73abe804f09b",
        "colab": {
          "base_uri": "https://localhost:8080/"
        }
      },
      "execution_count": 70,
      "outputs": [
        {
          "output_type": "stream",
          "name": "stdout",
          "text": [
            "['24', '00', '00']\n"
          ]
        }
      ]
    },
    {
      "cell_type": "code",
      "source": [
        "C2=int(tC2_sp[0]) * 3600 + int(tC2_sp[1]) * 60 + int(tC2_sp[2])\n",
        "print(f'ความต่างของเวลาเป็นวินาทีของ {timeC1} - {timeC2} = {C2-C1} วินาที')"
      ],
      "metadata": {
        "id": "Urvytp26Q5qs",
        "outputId": "10482586-b969-4003-81ab-e6063fea03cb",
        "colab": {
          "base_uri": "https://localhost:8080/"
        }
      },
      "execution_count": 71,
      "outputs": [
        {
          "output_type": "stream",
          "name": "stdout",
          "text": [
            "ความต่างของเวลาเป็นวินาทีของ 21:30:15 - 00:00:00 = 8985 วินาที\n"
          ]
        }
      ]
    },
    {
      "cell_type": "code",
      "source": [
        "timeD1 = '00:00:00'"
      ],
      "metadata": {
        "id": "m2K9msGsJZPN"
      },
      "execution_count": 73,
      "outputs": []
    },
    {
      "cell_type": "code",
      "source": [
        "tD1 = '24:00:00'"
      ],
      "metadata": {
        "id": "_qWzAZmpScjN"
      },
      "execution_count": 75,
      "outputs": []
    },
    {
      "cell_type": "code",
      "source": [
        "tD1_sp = tD1.split(':')\n",
        "print(tD1_sp)"
      ],
      "metadata": {
        "id": "uzxHV07_SYe9",
        "outputId": "deaafd76-b570-4e5c-d930-3a30f73a710d",
        "colab": {
          "base_uri": "https://localhost:8080/"
        }
      },
      "execution_count": 77,
      "outputs": [
        {
          "output_type": "stream",
          "name": "stdout",
          "text": [
            "['24', '00', '00']\n"
          ]
        }
      ]
    },
    {
      "cell_type": "code",
      "source": [
        "D1 = int(tD1_sp[0]) * 3600 + int(tD1_sp[1]) * 60 + int(tD1_sp[2])"
      ],
      "metadata": {
        "id": "U3OyH06ESs3o"
      },
      "execution_count": 78,
      "outputs": []
    },
    {
      "cell_type": "code",
      "source": [
        "timeD2 = '23:59:59'"
      ],
      "metadata": {
        "id": "e8eVgoOCJfld"
      },
      "execution_count": 30,
      "outputs": []
    },
    {
      "cell_type": "code",
      "source": [
        "timeD2_sp = timeD2.split(':')\n",
        "print(timeD2_sp)"
      ],
      "metadata": {
        "id": "r5Z52PoOThZh",
        "outputId": "7a4eacb0-40fe-4b59-d35e-8e2f35bf1cf4",
        "colab": {
          "base_uri": "https://localhost:8080/"
        }
      },
      "execution_count": 80,
      "outputs": [
        {
          "output_type": "stream",
          "name": "stdout",
          "text": [
            "['23', '59', '59']\n"
          ]
        }
      ]
    },
    {
      "cell_type": "code",
      "source": [
        "D2=int(timeD2_sp[0]) * 3600 + int(timeD2_sp[1]) * 60 + int(timeD2_sp[2])\n",
        "print(f'ความต่างของเวลาเป็นวินาทีของ {timeD1} - {timeD2} = {D1-D2} วินาที')"
      ],
      "metadata": {
        "id": "vK7AP40JS1iu",
        "outputId": "803b1b66-10f9-4020-8d7c-7def1f36fcb0",
        "colab": {
          "base_uri": "https://localhost:8080/"
        }
      },
      "execution_count": 82,
      "outputs": [
        {
          "output_type": "stream",
          "name": "stdout",
          "text": [
            "ความต่างของเวลาเป็นวินาทีของ 00:00:00 - 23:59:59 = 1 วินาที\n"
          ]
        }
      ]
    }
  ]
}
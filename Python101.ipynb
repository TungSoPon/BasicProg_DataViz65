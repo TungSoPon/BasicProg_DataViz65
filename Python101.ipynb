{
  "nbformat": 4,
  "nbformat_minor": 0,
  "metadata": {
    "colab": {
      "name": "Python101.ipynb",
      "provenance": [],
      "authorship_tag": "ABX9TyN9Cob9EcgamR2ZjymqHPpN",
      "include_colab_link": true
    },
    "kernelspec": {
      "name": "python3",
      "display_name": "Python 3"
    },
    "language_info": {
      "name": "python"
    }
  },
  "cells": [
    {
      "cell_type": "markdown",
      "metadata": {
        "id": "view-in-github",
        "colab_type": "text"
      },
      "source": [
        "<a href=\"https://colab.research.google.com/github/TungSoPon/BasicProg_DataViz65/blob/main/Python101.ipynb\" target=\"_parent\"><img src=\"https://colab.research.google.com/assets/colab-badge.svg\" alt=\"Open In Colab\"/></a>"
      ]
    },
    {
      "cell_type": "code",
      "execution_count": 1,
      "metadata": {
        "colab": {
          "base_uri": "https://localhost:8080/"
        },
        "id": "C51idFx2K47J",
        "outputId": "8bd9dc82-d8d1-4db1-9ed5-bab37ae81071"
      },
      "outputs": [
        {
          "output_type": "stream",
          "name": "stdout",
          "text": [
            "test\n"
          ]
        }
      ],
      "source": [
        "print('test')"
      ]
    },
    {
      "cell_type": "code",
      "source": [
        "\"สถิติ\" # \"double quote"
      ],
      "metadata": {
        "colab": {
          "base_uri": "https://localhost:8080/",
          "height": 36
        },
        "id": "8Gkk6TxFQvLQ",
        "outputId": "169b1ac6-a7c7-4067-ea19-befb88c75fef"
      },
      "execution_count": 6,
      "outputs": [
        {
          "output_type": "execute_result",
          "data": {
            "text/plain": [
              "'สถิติ'"
            ],
            "application/vnd.google.colaboratory.intrinsic+json": {
              "type": "string"
            }
          },
          "metadata": {},
          "execution_count": 6
        }
      ]
    },
    {
      "cell_type": "markdown",
      "source": [
        "ผลการรันแสดงออกมาได้ 2 รูปแบบ\n",
        "    1. ถ้าไม่มีตัวแปรมารับ ก็จะแสดงผลออกที่หน้าจอ\n",
        "    2. ถ้ามีตัวแปรมารับ ผลการรันก็จะไปอยู่ในตัวแปร"
      ],
      "metadata": {
        "id": "ZDW0w-0gRQBh"
      }
    },
    {
      "cell_type": "code",
      "source": [
        "1+3 # ไม่มีตัวแปรมารับ"
      ],
      "metadata": {
        "colab": {
          "base_uri": "https://localhost:8080/"
        },
        "id": "zEvo8xBLQFQ_",
        "outputId": "34a044f9-53a4-445d-fb31-ea982e60100b"
      },
      "execution_count": 7,
      "outputs": [
        {
          "output_type": "execute_result",
          "data": {
            "text/plain": [
              "4"
            ]
          },
          "metadata": {},
          "execution_count": 7
        }
      ]
    },
    {
      "cell_type": "code",
      "source": [
        "a = 1+3 # มีตัวแปร a มารับผลการบวก"
      ],
      "metadata": {
        "id": "25aMpmV_QlKv"
      },
      "execution_count": 8,
      "outputs": []
    },
    {
      "cell_type": "code",
      "source": [
        "print(a)"
      ],
      "metadata": {
        "colab": {
          "base_uri": "https://localhost:8080/"
        },
        "id": "a3hpIKseQqHf",
        "outputId": "eb4c4979-0354-46a4-be66-de21e88fd3a0"
      },
      "execution_count": 5,
      "outputs": [
        {
          "output_type": "stream",
          "name": "stdout",
          "text": [
            "4\n"
          ]
        }
      ]
    },
    {
      "cell_type": "code",
      "source": [
        "'1' + '3' # string + string คือการต่อ string"
      ],
      "metadata": {
        "colab": {
          "base_uri": "https://localhost:8080/",
          "height": 36
        },
        "id": "tt_ZqmdWR7yk",
        "outputId": "3e1ea8a5-8118-41d2-db57-96f8fc2bd4c2"
      },
      "execution_count": 9,
      "outputs": [
        {
          "output_type": "execute_result",
          "data": {
            "text/plain": [
              "'13'"
            ],
            "application/vnd.google.colaboratory.intrinsic+json": {
              "type": "string"
            }
          },
          "metadata": {},
          "execution_count": 9
        }
      ]
    },
    {
      "cell_type": "code",
      "source": [
        "1-3"
      ],
      "metadata": {
        "colab": {
          "base_uri": "https://localhost:8080/"
        },
        "id": "OrK9geZOSGMC",
        "outputId": "5d391ef6-f78d-405e-85ce-05d0e7635cca"
      },
      "execution_count": 10,
      "outputs": [
        {
          "output_type": "execute_result",
          "data": {
            "text/plain": [
              "-2"
            ]
          },
          "metadata": {},
          "execution_count": 10
        }
      ]
    },
    {
      "cell_type": "code",
      "source": [
        "'1'-'3' # - string ทำไม่ได้"
      ],
      "metadata": {
        "colab": {
          "base_uri": "https://localhost:8080/",
          "height": 165
        },
        "id": "owZTAlTlSI3a",
        "outputId": "e9b1987d-65e3-44cb-baf4-fb7f2bc42c5b"
      },
      "execution_count": 11,
      "outputs": [
        {
          "output_type": "error",
          "ename": "TypeError",
          "evalue": "ignored",
          "traceback": [
            "\u001b[0;31m---------------------------------------------------------------------------\u001b[0m",
            "\u001b[0;31mTypeError\u001b[0m                                 Traceback (most recent call last)",
            "\u001b[0;32m<ipython-input-11-63cd30ac3cc2>\u001b[0m in \u001b[0;36m<module>\u001b[0;34m()\u001b[0m\n\u001b[0;32m----> 1\u001b[0;31m \u001b[0;34m'1'\u001b[0m\u001b[0;34m-\u001b[0m\u001b[0;34m'3'\u001b[0m \u001b[0;31m# - string ทำไม่ได้\u001b[0m\u001b[0;34m\u001b[0m\u001b[0;34m\u001b[0m\u001b[0m\n\u001b[0m",
            "\u001b[0;31mTypeError\u001b[0m: unsupported operand type(s) for -: 'str' and 'str'"
          ]
        }
      ]
    },
    {
      "cell_type": "markdown",
      "source": [
        "# ข้อกำหนดตัวแปร"
      ],
      "metadata": {
        "id": "b0jKasnqWPSz"
      }
    },
    {
      "cell_type": "markdown",
      "source": [
        "1. ตั้งให้สื่อความหมาย\n",
        "2. ต้องเป็นภาษาอังกฤษ\n",
        "3. ใช้ตัวเลขผสมกับตัวหนังสือได้ แต่ห้ามขึ้นต้นด้วยตัวเลข\n",
        "4. ห้ามมีเว้นวรรคในชื่อตัวแปร\n",
        "5. ตัวใหญ่ ตัวเล็ก มีค่าไม่เท่ากัน"
      ],
      "metadata": {
        "id": "_VcSFHO3WXT5"
      }
    },
    {
      "cell_type": "markdown",
      "source": [
        "# Advanced Printing"
      ],
      "metadata": {
        "id": "epuJLFb0YIfu"
      }
    },
    {
      "cell_type": "code",
      "source": [
        "print(f' ส่วนที่ไม่ใช่ code>2*3 3-5 // ส่วนของ code>{2*3} {3-5}')"
      ],
      "metadata": {
        "colab": {
          "base_uri": "https://localhost:8080/"
        },
        "id": "Igu8EPpBYbI-",
        "outputId": "14bc2054-7c2a-4d01-ce5e-b8145b706bbb"
      },
      "execution_count": 15,
      "outputs": [
        {
          "output_type": "stream",
          "name": "stdout",
          "text": [
            " ส่วนที่ไม่ใช่ code>2*3 3-5 // ส่วนของ code>6 -2\n"
          ]
        }
      ]
    },
    {
      "cell_type": "code",
      "source": [
        "print(f'หนึ่ง บวก สอง (1+2) เท่ากับ สาม ({1+2})') # { } Curly Brackets"
      ],
      "metadata": {
        "colab": {
          "base_uri": "https://localhost:8080/"
        },
        "id": "ZYXLEpZ-XedN",
        "outputId": "c852594b-ba43-46ea-eb6c-befa038510b0"
      },
      "execution_count": 14,
      "outputs": [
        {
          "output_type": "stream",
          "name": "stdout",
          "text": [
            "หนึ่ง บวก สอง (1+2) เท่ากับ สาม (3)\n"
          ]
        }
      ]
    },
    {
      "cell_type": "code",
      "source": [
        "a = 1\n",
        "b = 2 \n",
        "print(f' หนึ่ง บวก สอง ({a}+{b}) เท่ากับ สาม ({a+b})')"
      ],
      "metadata": {
        "colab": {
          "base_uri": "https://localhost:8080/"
        },
        "id": "2-bAOopNZPr6",
        "outputId": "3b4fac9b-736a-4d3e-d708-ae846cb387a2"
      },
      "execution_count": 16,
      "outputs": [
        {
          "output_type": "stream",
          "name": "stdout",
          "text": [
            " หนึ่ง บวก สอง (1+2) เท่ากับ สาม (3)\n"
          ]
        }
      ]
    }
  ]
}
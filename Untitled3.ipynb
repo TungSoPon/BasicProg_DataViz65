{
  "nbformat": 4,
  "nbformat_minor": 0,
  "metadata": {
    "colab": {
      "name": "Untitled3.ipynb",
      "provenance": [],
      "authorship_tag": "ABX9TyOZqw/YkXjVW4tlUEsIogvm",
      "include_colab_link": true
    },
    "kernelspec": {
      "name": "python3",
      "display_name": "Python 3"
    },
    "language_info": {
      "name": "python"
    }
  },
  "cells": [
    {
      "cell_type": "markdown",
      "metadata": {
        "id": "view-in-github",
        "colab_type": "text"
      },
      "source": [
        "<a href=\"https://colab.research.google.com/github/TungSoPon/BasicProg_DataViz65/blob/main/Untitled3.ipynb\" target=\"_parent\"><img src=\"https://colab.research.google.com/assets/colab-badge.svg\" alt=\"Open In Colab\"/></a>"
      ]
    },
    {
      "cell_type": "markdown",
      "source": [
        "# Quiz3\n",
        "\n",
        "เขียน function แสดงความต่างของเวลาโดย input อยู่ในรูปแบบ 'XX:YY:ZZ - AA:BB:CC'\n",
        "\n",
        "และวนลูปแสดงผลของ input ต่อไปนี้\n",
        "\n",
        "* '09:11:50 - 12:30:15'\n",
        "* '13:41:07 - 20:00:18'\n",
        "* '00:00:00 - 23:59:59'\n",
        "* '18:04:11 - 00:00:00'\n",
        "* '21:30:00 - 03:05:15'\n",
        "\n",
        "ตัวอย่าง input ```'00:00:00-01:00:00'```\n",
        "\n",
        "output ```ช่วงระยะเวลาระหว่าง 00:00:00 ถึง 01:00:00 มีเวลาทั้งหมด 3,600 วินาที```\n"
      ],
      "metadata": {
        "id": "ix9Xpt3affp3"
      }
    },
    {
      "cell_type": "code",
      "source": [
        "def print_time(alltime):\n",
        "    for i in (alltime):\n",
        "      start=alltime.split(\"-\")\n",
        "      time1=start[0]\n",
        "      sp_time1=time1.split(\":\")\n",
        "      time2=start[1]\n",
        "      sp_time2=time2.split(\":\")\n",
        "      a1 = (int(sp_time1[0])*3600) + (int(sp_time1[1])*60) + (int(sp_time1[2]))\n",
        "      a2 = (int(sp_time2[0])*3600) + (int(sp_time2[1])*60) + (int(sp_time2[2]))\n",
        "      time3 = a2 -a1\n",
        "      time1day = 86400\n",
        "    if time3 < 0 :\n",
        "       time4 = (time3 + time1day)\n",
        "       print(f'ช่วงระยะเวลาระหว่าง {time1}ถึง{time2} มีเวลาทั้งหมด {time4:,} วินาที')\n",
        "    else:\n",
        "      print(f'ช่วงระยะเวลาระหว่าง {time1}ถึง{time2} มีเวลาทั้งหมด {time3:,} วินาที')"
      ],
      "metadata": {
        "id": "GE17D3XCr_N7"
      },
      "execution_count": 152,
      "outputs": []
    },
    {
      "cell_type": "code",
      "source": [
        "print_time('09:11:50 - 12:30:15')"
      ],
      "metadata": {
        "colab": {
          "base_uri": "https://localhost:8080/"
        },
        "id": "mL09DtYdRJba",
        "outputId": "e5c9e0ef-810b-4f88-c1cc-0786b78f05ce"
      },
      "execution_count": 153,
      "outputs": [
        {
          "output_type": "stream",
          "name": "stdout",
          "text": [
            "ช่วงระยะเวลาระหว่าง 09:11:50 ถึง 12:30:15 มีเวลาทั้งหมด 11,905 วินาที\n"
          ]
        }
      ]
    },
    {
      "cell_type": "code",
      "source": [
        "print_time('13:41:07 - 20:00:18')"
      ],
      "metadata": {
        "colab": {
          "base_uri": "https://localhost:8080/"
        },
        "id": "x57u0-OSRUPB",
        "outputId": "a5baebcf-7c9a-47cd-fb3e-fa41a0709475"
      },
      "execution_count": 154,
      "outputs": [
        {
          "output_type": "stream",
          "name": "stdout",
          "text": [
            "ช่วงระยะเวลาระหว่าง 13:41:07 ถึง 20:00:18 มีเวลาทั้งหมด 22,751 วินาที\n"
          ]
        }
      ]
    },
    {
      "cell_type": "code",
      "source": [
        "print_time('00:00:00 - 23:59:59')"
      ],
      "metadata": {
        "colab": {
          "base_uri": "https://localhost:8080/"
        },
        "id": "AYcQHTMSRbqI",
        "outputId": "241d8f8e-c39d-4755-f8c6-4cd23b7f497a"
      },
      "execution_count": 155,
      "outputs": [
        {
          "output_type": "stream",
          "name": "stdout",
          "text": [
            "ช่วงระยะเวลาระหว่าง 00:00:00 ถึง 23:59:59 มีเวลาทั้งหมด 86,399 วินาที\n"
          ]
        }
      ]
    },
    {
      "cell_type": "code",
      "source": [
        "print_time('18:04:11 - 00:00:00')"
      ],
      "metadata": {
        "colab": {
          "base_uri": "https://localhost:8080/"
        },
        "id": "rCUvNjesRi4K",
        "outputId": "7efedc29-05f1-4681-fdbb-6720075fd4bf"
      },
      "execution_count": 156,
      "outputs": [
        {
          "output_type": "stream",
          "name": "stdout",
          "text": [
            "ช่วงระยะเวลาระหว่าง 18:04:11 ถึง 00:00:00 มีเวลาทั้งหมด 21,349 วินาที\n"
          ]
        }
      ]
    },
    {
      "cell_type": "code",
      "source": [
        "print_time('21:30:00 - 03:05:15')"
      ],
      "metadata": {
        "colab": {
          "base_uri": "https://localhost:8080/"
        },
        "id": "O-pkdQi8Rx1T",
        "outputId": "1c59ba98-4cb2-4e26-88f2-db7dc5b0fb1b"
      },
      "execution_count": 157,
      "outputs": [
        {
          "output_type": "stream",
          "name": "stdout",
          "text": [
            "ช่วงระยะเวลาระหว่าง 21:30:00 ถึง 03:05:15 มีเวลาทั้งหมด 20,115 วินาที\n"
          ]
        }
      ]
    }
  ]
}